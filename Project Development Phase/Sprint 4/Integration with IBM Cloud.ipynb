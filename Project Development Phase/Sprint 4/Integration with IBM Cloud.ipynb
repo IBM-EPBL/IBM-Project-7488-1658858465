{
  "nbformat": 4,
  "nbformat_minor": 0,
  "metadata": {
    "colab": {
      "provenance": []
    },
    "kernelspec": {
      "name": "python3",
      "display_name": "Python 3"
    },
    "language_info": {
      "name": "python"
    }
  },
  "cells": [
    {
      "cell_type": "code",
      "execution_count": 5,
      "metadata": {
        "colab": {
          "base_uri": "https://localhost:8080/"
        },
        "id": "A1dBXN0Rrwf6",
        "outputId": "b87b4f1f-8234-40b4-dd22-e495ede9e440"
      },
      "outputs": [
        {
          "output_type": "stream",
          "name": "stdout",
          "text": [
            "Scoring response\n",
            "{'predictions': [{'fields': ['prediction', 'probability'], 'values': [[1, [2.7060508728027344e-05, 0.999972939491272]]]}]}\n",
            "1\n",
            "Final prediction : 1\n",
            "Final prediction : 1\n"
          ]
        }
      ],
      "source": [
        "import requests\n",
        "from flask import Flask,render_template,request,jsonify\n",
        "import pickle\n",
        "import flask\n",
        "from flask import request, render_template\n",
        "import requests\n",
        "\n",
        "\n",
        "# NOTE: you must manually set API_KEY below using information retrieved from your IBM Cloud account.\n",
        "API_KEY = \"jkAhUKPLY7AtlKYFkyOhX0MAD3gBP5NPuWH1c5lsCASQ\"\n",
        "token_response = requests.post('https://iam.cloud.ibm.com/identity/token', data={\"apikey\": 'jkAhUKPLY7AtlKYFkyOhX0MAD3gBP5NPuWH1c5lsCASQ', \"grant_type\": 'urn:ibm:params:oauth:grant-type:apikey'})\n",
        "mltoken = token_response.json()[\"access_token\"]\n",
        "\n",
        "header = {'Content-Type': 'application/json', 'Authorization': 'Bearer ' + mltoken}\n",
        "\n",
        "# NOTEd: manually define and pass the array(s) of values to be scored in the next line\n",
        "X = [[-1,-1,-1,1,-1,1,1,1,1,1,1,-1,-1,1,0,-1,-1,-1,0,1,1,1,1,1,1,1,1,1,1,-1]]\n",
        "payload_scoring = {\"input_data\": [{\"fields\": [['having_IPhaving_IP_Address','URLURL_Length','Shortining_Service','having_At_Symbol','double_slash_redirecting','Prefix_Suffix','having_Sub_Domain','SSLfinal_State','Domain_registeration_length','Favicon','port','HTTPS_token','Request_URL','URL_of_Anchor','Links_in_tags','SFH','Submitting_to_email','Abnormal_URL','Redirect','on_mouseover','RightClick','popUpWidnow','Iframe','age_of_domain','DNSRecord','web_traffic','Page_Rank','Google_Index','Links_pointing_to_page','Statistical_report']], \"values\": X }]}\n",
        "response_scoring = requests.post('https://us-south.ml.cloud.ibm.com/ml/v4/deployments/416e4500-9b96-4a40-bb86-894472582f4c/predictions?version=2022-11-16', json=payload_scoring, headers={'Authorization': 'Bearer ' + mltoken})\n",
        "print(\"Scoring response\")\n",
        "print(response_scoring.json())\n",
        "predictions = response_scoring.json()\n",
        "predict = predictions['predictions'][0]['values'][0][0]\n",
        "print(predict)\n",
        "print(\"Final prediction :\",predict)\n",
        "\n",
        "print(\"Final prediction :\",predict)\n",
        "# if(predict == -1):\n",
        "#     return render_template('sitepred.html', result=\"You are Safe :) Given URL is Not a Phishing Website\")\n",
        "# else:\n",
        "#     return render_template('sitepred.html', result=\"Be Safe ⚠ Given URL is a Phishing Website\")\n",
        "# if __name__ == '__main__' :\n",
        "#     app.run(debug= True)"
      ]
    },
    {
      "cell_type": "code",
      "source": [],
      "metadata": {
        "id": "qAReNWVnsE5K"
      },
      "execution_count": null,
      "outputs": []
    }
  ]
}