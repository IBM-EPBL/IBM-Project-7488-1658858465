{
 "cells": [
  {
   "cell_type": "code",
   "execution_count": 2,
   "id": "597ccc66",
   "metadata": {
    "scrolled": true
   },
   "outputs": [
    {
     "name": "stdout",
     "output_type": "stream",
     "text": [
      "Scoring response\n",
      "{'predictions': [{'fields': ['prediction', 'probability'], 'values': [[1, [2.7060508728027344e-05, 0.999972939491272]]]}]}\n",
      "1\n",
      "Final prediction : 1\n"
     ]
    }
   ],
   "source": [
    "import requests\n",
    "\n",
    "# NOTE: you must manually set API_KEY below using information retrieved from your IBM Cloud account.\n",
    "API_KEY = \"jkAhUKPLY7AtlKYFkyOhX0MAD3gBP5NPuWH1c5lsCASQ\"\n",
    "token_response = requests.post('https://iam.cloud.ibm.com/identity/token', data={\"apikey\": 'jkAhUKPLY7AtlKYFkyOhX0MAD3gBP5NPuWH1c5lsCASQ', \"grant_type\": 'urn:ibm:params:oauth:grant-type:apikey'})\n",
    "mltoken = token_response.json()[\"access_token\"]\n",
    "\n",
    "header = {'Content-Type': 'application/json', 'Authorization': 'Bearer ' + mltoken}\n",
    "\n",
    "# NOTEd: manually define and pass the array(s) of values to be scored in the next line\n",
    "X = [[-1,-1,-1,1,-1,1,1,1,1,1,1,-1,-1,1,0,-1,-1,-1,0,1,1,1,1,1,1,1,1,1,1,-1]]\n",
    "payload_scoring = {\"input_data\": [{\"fields\": [['having_IPhaving_IP_Address','URLURL_Length','Shortining_Service','having_At_Symbol','double_slash_redirecting','Prefix_Suffix','having_Sub_Domain','SSLfinal_State','Domain_registeration_length','Favicon','port','HTTPS_token','Request_URL','URL_of_Anchor','Links_in_tags','SFH','Submitting_to_email','Abnormal_URL','Redirect','on_mouseover','RightClick','popUpWidnow','Iframe','age_of_domain','DNSRecord','web_traffic','Page_Rank','Google_Index','Links_pointing_to_page','Statistical_report']], \"values\": X }]}\n",
    "response_scoring = requests.post('https://us-south.ml.cloud.ibm.com/ml/v4/deployments/416e4500-9b96-4a40-bb86-894472582f4c/predictions?version=2022-11-16', json=payload_scoring, headers={'Authorization': 'Bearer ' + mltoken})\n",
    "print(\"Scoring response\")\n",
    "print(response_scoring.json())\n",
    "predictions = response_scoring.json()\n",
    "predict = predictions['predictions'][0]['values'][0][0]\n",
    "print(predict)\n",
    "print(\"Final prediction :\",predict)"
   ]
  },
  {
   "cell_type": "code",
   "execution_count": null,
   "id": "64814dfc",
   "metadata": {},
   "outputs": [],
   "source": []
  }
 ],
 "metadata": {
  "kernelspec": {
   "display_name": "Python 3 (ipykernel)",
   "language": "python",
   "name": "python3"
  },
  "language_info": {
   "codemirror_mode": {
    "name": "ipython",
    "version": 3
   },
   "file_extension": ".py",
   "mimetype": "text/x-python",
   "name": "python",
   "nbconvert_exporter": "python",
   "pygments_lexer": "ipython3",
   "version": "3.9.12"
  }
 },
 "nbformat": 4,
 "nbformat_minor": 5
}
